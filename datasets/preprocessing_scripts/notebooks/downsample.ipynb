{
 "cells": [
  {
   "cell_type": "markdown",
   "id": "7e3b4c2c-0fab-4ab2-a272-d0a6e7b2b668",
   "metadata": {},
   "source": [
    "## Imports"
   ]
  },
  {
   "cell_type": "code",
   "execution_count": 1,
   "id": "b7564631",
   "metadata": {},
   "outputs": [
    {
     "data": {
      "text/plain": [
       "True"
      ]
     },
     "execution_count": 1,
     "metadata": {},
     "output_type": "execute_result"
    }
   ],
   "source": [
    "import torch\n",
    "\n",
    "torch.cuda.is_available()"
   ]
  },
  {
   "cell_type": "code",
   "execution_count": 2,
   "id": "6e9ee231",
   "metadata": {},
   "outputs": [
    {
     "data": {
      "text/plain": [
       "'Tesla P100-PCIE-16GB'"
      ]
     },
     "execution_count": 2,
     "metadata": {},
     "output_type": "execute_result"
    }
   ],
   "source": [
    "torch.cuda.get_device_properties(0).name"
   ]
  },
  {
   "cell_type": "code",
   "execution_count": 6,
   "id": "5d8b0149-aff5-407c-86e4-99ae4bd98481",
   "metadata": {},
   "outputs": [],
   "source": [
    "import pandas as pd"
   ]
  },
  {
   "cell_type": "markdown",
   "id": "a6160338-c491-4b36-9a67-26966ee3a769",
   "metadata": {},
   "source": [
    "## Load data"
   ]
  },
  {
   "cell_type": "code",
   "execution_count": 2,
   "id": "59004f8d-fca5-4ceb-b770-0287da128290",
   "metadata": {},
   "outputs": [
    {
     "data": {
      "application/vnd.microsoft.datawrangler.viewer.v0+json": {
       "columns": [
        {
         "name": "complexity",
         "rawType": "object",
         "type": "string"
        },
        {
         "name": "count",
         "rawType": "int64",
         "type": "integer"
        }
       ],
       "ref": "d956a2d9-88e5-48e1-b9e6-f6ae400f25af",
       "rows": [
        [
         "O(n)",
         "1538"
        ],
        [
         "O(nlogn)",
         "352"
        ],
        [
         "O(n ^ 2)",
         "218"
        ],
        [
         "O(1)",
         "194"
        ],
        [
         "O(logn)",
         "110"
        ],
        [
         "other",
         "42"
        ],
        [
         "O(n ^ 3)",
         "33"
        ],
        [
         "O(n!)",
         "5"
        ],
        [
         "O(2 ^ n)",
         "3"
        ]
       ],
       "shape": {
        "columns": 1,
        "rows": 9
       }
      },
      "text/plain": [
       "complexity\n",
       "O(n)        1538\n",
       "O(nlogn)     352\n",
       "O(n ^ 2)     218\n",
       "O(1)         194\n",
       "O(logn)      110\n",
       "other         42\n",
       "O(n ^ 3)      33\n",
       "O(n!)          5\n",
       "O(2 ^ n)       3\n",
       "Name: count, dtype: int64"
      ]
     },
     "execution_count": 2,
     "metadata": {},
     "output_type": "execute_result"
    }
   ],
   "source": [
    "leetcode_clean = pd.read_csv(\"../../data/leetcode-parsed/clean_leetcode_data.csv\")\n",
    "leetcode_clean['complexity'].value_counts()"
   ]
  },
  {
   "cell_type": "code",
   "execution_count": null,
   "id": "8a46ce8f-c636-40eb-bb41-ac2a7af024a5",
   "metadata": {},
   "outputs": [],
   "source": [
    "codecomplex = pd.read_csv(\"../data/codecomplex/codecomplex_data.csv\")\n",
    "neetcode = pd.read_csv(\"../data/neetcode-scraped/neetcode_data.csv\")\n",
    "codecomplex_neetcode = pd.read_csv(\"../data/merges/codecomplex_neetcode/codecomplex_neetcode_merged_data.csv\")\n",
    "core = pd.read_csv(\"../data/merges/codecomplex+neetcode+leetcode_clean/full_no_exponential+factorial.csv\")"
   ]
  },
  {
   "cell_type": "code",
   "execution_count": null,
   "id": "6f627747-d7da-4095-a291-13503b769a18",
   "metadata": {},
   "outputs": [
    {
     "data": {
      "text/plain": [
       "complexity\n",
       "O(n)        2509\n",
       "O(nlogn)    1156\n",
       "O(1)         970\n",
       "O(n ^ 2)     907\n",
       "O(logn)      776\n",
       "O(n ^ 3)     603\n",
       "np           497\n",
       "Name: count, dtype: int64"
      ]
     },
     "execution_count": 57,
     "metadata": {},
     "output_type": "execute_result"
    }
   ],
   "source": [
    "core['complexity'].value_counts()"
   ]
  },
  {
   "cell_type": "code",
   "execution_count": null,
   "id": "c960f4e5-c77c-4e24-aca9-0450ec1bb84e",
   "metadata": {},
   "outputs": [
    {
     "data": {
      "text/plain": [
       "complexity\n",
       "O(n)        972\n",
       "O(nlogn)    807\n",
       "O(1)        778\n",
       "O(n ^ 2)    689\n",
       "O(logn)     668\n",
       "O(n ^ 3)    570\n",
       "np          497\n",
       "Name: count, dtype: int64"
      ]
     },
     "execution_count": 103,
     "metadata": {},
     "output_type": "execute_result"
    }
   ],
   "source": [
    "codecomplex_neetcode['complexity'].value_counts()"
   ]
  },
  {
   "cell_type": "code",
   "execution_count": null,
   "id": "ead51a41-7bf6-43f2-877a-8899c28be7d2",
   "metadata": {},
   "outputs": [
    {
     "data": {
      "text/plain": [
       "complexity\n",
       "O(n)        834\n",
       "O(nlogn)    774\n",
       "O(1)        763\n",
       "O(logn)     651\n",
       "O(n ^ 2)    640\n",
       "O(n ^ 3)    566\n",
       "np          500\n",
       "Name: count, dtype: int64"
      ]
     },
     "execution_count": 79,
     "metadata": {},
     "output_type": "execute_result"
    }
   ],
   "source": [
    "codecomplex['complexity'].value_counts()"
   ]
  },
  {
   "cell_type": "code",
   "execution_count": null,
   "id": "570bf6c8-e980-464a-be85-ed229907672e",
   "metadata": {},
   "outputs": [],
   "source": [
    "neetcode['labels'].value_counts()"
   ]
  },
  {
   "cell_type": "code",
   "execution_count": null,
   "id": "609e5706-9071-475b-8137-8edef0064216",
   "metadata": {},
   "outputs": [],
   "source": [
    "codecomplex = codecomplex.drop_duplicates()"
   ]
  },
  {
   "cell_type": "code",
   "execution_count": null,
   "id": "bcd4636f-057c-4c38-a41d-dc6c6f1610a5",
   "metadata": {},
   "outputs": [
    {
     "data": {
      "text/plain": [
       "np.int64(0)"
      ]
     },
     "execution_count": 78,
     "metadata": {},
     "output_type": "execute_result"
    }
   ],
   "source": [
    "codecomplex.duplicated().sum()"
   ]
  },
  {
   "cell_type": "markdown",
   "id": "4e20aeec-238b-4c42-9668-6aeb8f340f77",
   "metadata": {},
   "source": [
    "## Extract indices"
   ]
  },
  {
   "cell_type": "code",
   "execution_count": 118,
   "id": "a3eeeb18-1a2f-4bb8-9117-ff6371555d2c",
   "metadata": {},
   "outputs": [],
   "source": [
    "labels_to_drop = {'O(n)', 'O(nlogn)', 'O(1)', 'O(n ^ 2)'}\n",
    "indices_by_label = {label: leetcode_clean[leetcode_clean['complexity'] == label] for label in labels_to_drop}"
   ]
  },
  {
   "cell_type": "code",
   "execution_count": null,
   "id": "6429f7c2",
   "metadata": {},
   "outputs": [],
   "source": [
    "idxs = pd.Index(set().union(*[v.index for v in indices_by_label.values()]))"
   ]
  },
  {
   "cell_type": "markdown",
   "id": "d698064f-67fe-421c-9fbd-ec3655c13b04",
   "metadata": {},
   "source": [
    "## Drop "
   ]
  },
  {
   "cell_type": "code",
   "execution_count": 120,
   "id": "11537a23-1fdb-4755-a538-8273a6f553bf",
   "metadata": {},
   "outputs": [
    {
     "data": {
      "application/vnd.microsoft.datawrangler.viewer.v0+json": {
       "columns": [
        {
         "name": "complexity",
         "rawType": "object",
         "type": "string"
        },
        {
         "name": "count",
         "rawType": "int64",
         "type": "integer"
        }
       ],
       "ref": "c8c91f42-1e16-4e4a-ad27-46e6d63a0338",
       "rows": [
        [
         "O(logn)",
         "110"
        ],
        [
         "other",
         "42"
        ],
        [
         "O(n ^ 3)",
         "33"
        ],
        [
         "O(n!)",
         "5"
        ],
        [
         "O(2 ^ n)",
         "3"
        ]
       ],
       "shape": {
        "columns": 1,
        "rows": 5
       }
      },
      "text/plain": [
       "complexity\n",
       "O(logn)     110\n",
       "other        42\n",
       "O(n ^ 3)     33\n",
       "O(n!)         5\n",
       "O(2 ^ n)      3\n",
       "Name: count, dtype: int64"
      ]
     },
     "execution_count": 120,
     "metadata": {},
     "output_type": "execute_result"
    }
   ],
   "source": [
    "leetcode_clean.drop(index=idxs, inplace=True)\n",
    "leetcode_clean['complexity'].value_counts()"
   ]
  },
  {
   "cell_type": "markdown",
   "id": "f0c57bfd-d248-4008-abcb-7d429e69aea6",
   "metadata": {},
   "source": [
    "## Downsample"
   ]
  },
  {
   "cell_type": "markdown",
   "id": "9148b1d9-f758-428b-8b24-0fe1d28d3fd2",
   "metadata": {},
   "source": [
    "#### Num of samples before:"
   ]
  },
  {
   "cell_type": "code",
   "execution_count": 109,
   "id": "20aefd9f-75dc-4b3a-aa6b-614118bdcc68",
   "metadata": {},
   "outputs": [
    {
     "name": "stdout",
     "output_type": "stream",
     "text": [
      "O(nlogn): (352,)\n",
      "O(n): (1538,)\n",
      "O(n ^ 2): (218,)\n",
      "O(1): (194,)\n"
     ]
    }
   ],
   "source": [
    "for key, value in indices_by_label.items():\n",
    "    print(f\"{key}: {value.shape}\")"
   ]
  },
  {
   "cell_type": "markdown",
   "id": "1a6dfbfe",
   "metadata": {},
   "source": [
    "### Start downsampling"
   ]
  },
  {
   "cell_type": "code",
   "execution_count": 126,
   "id": "198b8286",
   "metadata": {},
   "outputs": [],
   "source": [
    "sample_size = 80\n",
    "\n",
    "for label in indices_by_label.keys():\n",
    "    indices_by_label[label] = indices_by_label[label].sample(sample_size)"
   ]
  },
  {
   "cell_type": "markdown",
   "id": "e24e36f4-5de0-4503-b352-333d97299869",
   "metadata": {},
   "source": [
    "#### Num of samples after:"
   ]
  },
  {
   "cell_type": "code",
   "execution_count": 127,
   "id": "9aac4f17-4060-46ce-95f5-5ecc974bb448",
   "metadata": {},
   "outputs": [
    {
     "name": "stdout",
     "output_type": "stream",
     "text": [
      "O(nlogn): (80, 2)\n",
      "O(n): (80, 2)\n",
      "O(n ^ 2): (80, 2)\n",
      "O(1): (80, 2)\n"
     ]
    }
   ],
   "source": [
    "for key, value in indices_by_label.items():\n",
    "    print(f\"{key}: {value.shape}\")"
   ]
  },
  {
   "cell_type": "markdown",
   "id": "124fc766-f88c-4508-905b-2034c2d63985",
   "metadata": {},
   "source": [
    "## And cat the downsampled ver. back"
   ]
  },
  {
   "cell_type": "code",
   "execution_count": 128,
   "id": "103b1255-50bb-4f83-b662-57f399ea750b",
   "metadata": {},
   "outputs": [],
   "source": [
    "downsampled = [indices_by_label[label] for label in labels_to_drop] + [leetcode_clean]\n",
    "leetcode_clean = pd.concat(downsampled)"
   ]
  },
  {
   "cell_type": "code",
   "execution_count": 129,
   "id": "66a7a733-eba7-41bf-bd65-dbbdb02b743e",
   "metadata": {},
   "outputs": [
    {
     "data": {
      "application/vnd.microsoft.datawrangler.viewer.v0+json": {
       "columns": [
        {
         "name": "complexity",
         "rawType": "object",
         "type": "string"
        },
        {
         "name": "count",
         "rawType": "int64",
         "type": "integer"
        }
       ],
       "ref": "c79d2b57-c8d7-4cf3-8f75-5ff1dd886558",
       "rows": [
        [
         "O(logn)",
         "110"
        ],
        [
         "O(nlogn)",
         "80"
        ],
        [
         "O(n)",
         "80"
        ],
        [
         "O(n ^ 2)",
         "80"
        ],
        [
         "O(1)",
         "80"
        ],
        [
         "other",
         "42"
        ],
        [
         "O(n ^ 3)",
         "33"
        ],
        [
         "O(n!)",
         "5"
        ],
        [
         "O(2 ^ n)",
         "3"
        ]
       ],
       "shape": {
        "columns": 1,
        "rows": 9
       }
      },
      "text/plain": [
       "complexity\n",
       "O(logn)     110\n",
       "O(nlogn)     80\n",
       "O(n)         80\n",
       "O(n ^ 2)     80\n",
       "O(1)         80\n",
       "other        42\n",
       "O(n ^ 3)     33\n",
       "O(n!)         5\n",
       "O(2 ^ n)      3\n",
       "Name: count, dtype: int64"
      ]
     },
     "execution_count": 129,
     "metadata": {},
     "output_type": "execute_result"
    }
   ],
   "source": [
    "leetcode_clean['complexity'].value_counts()"
   ]
  },
  {
   "cell_type": "code",
   "execution_count": null,
   "id": "c14163c1-b764-4ad5-8b22-baec9ad513de",
   "metadata": {},
   "outputs": [],
   "source": [
    "core.to_csv(\"../data/merges/codecomplex+neetcode+leetcode_clean/different_class_distributions/ver.3.0.csv\", index=False)"
   ]
  }
 ],
 "metadata": {
  "kernelspec": {
   "display_name": "Python 3 (ipykernel)",
   "language": "python",
   "name": "python3"
  },
  "language_info": {
   "codemirror_mode": {
    "name": "ipython",
    "version": 3
   },
   "file_extension": ".py",
   "mimetype": "text/x-python",
   "name": "python",
   "nbconvert_exporter": "python",
   "pygments_lexer": "ipython3",
   "version": "3.11.11"
  }
 },
 "nbformat": 4,
 "nbformat_minor": 5
}
