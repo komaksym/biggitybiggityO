{
 "cells": [
  {
   "cell_type": "markdown",
   "id": "5d52cd37-e737-49e1-bdb5-296bf3e6d724",
   "metadata": {},
   "source": [
    "## Imports"
   ]
  },
  {
   "cell_type": "code",
   "execution_count": 61,
   "id": "80a70507-ebe5-4bfd-b74e-2db8904f7572",
   "metadata": {},
   "outputs": [],
   "source": [
    "import pandas as pd"
   ]
  },
  {
   "cell_type": "markdown",
   "id": "8663a3f8-b99b-4519-b99c-2934326343a6",
   "metadata": {},
   "source": [
    "## Load data"
   ]
  },
  {
   "cell_type": "code",
   "execution_count": 62,
   "id": "aa8acf4b-68e4-4cfa-9822-054103ead89f",
   "metadata": {},
   "outputs": [],
   "source": [
    "original = pd.read_csv(\"../data/leetcode-parsed/clean_leetcode_data.csv\", sep=';')\n",
    "relabeled = pd.read_csv(\"../data/leetcode-parsed/ai_audited/relabeled_clean_leetcode_data.csv\", sep=';')"
   ]
  },
  {
   "cell_type": "markdown",
   "id": "1cafb7ac-fc1c-4b42-99f1-b4119ac11061",
   "metadata": {},
   "source": [
    "## Sample to see a diff on"
   ]
  },
  {
   "cell_type": "code",
   "execution_count": 63,
   "id": "98968787-a5a1-44be-b482-6c53dda4a44f",
   "metadata": {},
   "outputs": [],
   "source": [
    "diff = relabeled.iloc[0]['code']"
   ]
  },
  {
   "cell_type": "markdown",
   "id": "8f2816ad-ce43-428d-b38c-99b704c7344a",
   "metadata": {},
   "source": [
    "## 'Before' label"
   ]
  },
  {
   "cell_type": "code",
   "execution_count": 64,
   "id": "b606d1bb-af52-4230-a3ee-f26dc869232a",
   "metadata": {},
   "outputs": [],
   "source": [
    "before = original.loc[original['code'] == diff]"
   ]
  },
  {
   "cell_type": "markdown",
   "id": "29ce81bb-0b02-405e-be31-c41dbccc2cb7",
   "metadata": {},
   "source": [
    "## Dropping duplicates"
   ]
  },
  {
   "cell_type": "code",
   "execution_count": 65,
   "id": "0c4853d9-713e-4768-8469-bf5316a27363",
   "metadata": {},
   "outputs": [],
   "source": [
    "relabeled.drop_duplicates(subset='code', inplace=True)\n",
    "original.drop_duplicates(subset='code', inplace=True)"
   ]
  },
  {
   "cell_type": "markdown",
   "id": "61fbca22-9f68-41c2-905d-ccc90e54047a",
   "metadata": {},
   "source": [
    "## Set index as the update method aligns on indices"
   ]
  },
  {
   "cell_type": "code",
   "execution_count": 66,
   "id": "c2087ec7-30cc-47e6-8f67-a1bb689f52bb",
   "metadata": {},
   "outputs": [],
   "source": [
    "original.set_index('code', inplace=True)\n",
    "relabeled.set_index('code', inplace=True)"
   ]
  },
  {
   "cell_type": "markdown",
   "id": "76a17c7c-34fd-4c7d-92c6-5adb63e26716",
   "metadata": {},
   "source": [
    "## Update /w new labels"
   ]
  },
  {
   "cell_type": "code",
   "execution_count": 67,
   "id": "9776d330-c69a-4a11-b833-96fe264817bf",
   "metadata": {},
   "outputs": [],
   "source": [
    "original.update(relabeled)"
   ]
  },
  {
   "cell_type": "markdown",
   "id": "4d242655-cf99-4baa-964e-ca5dfcef9bfe",
   "metadata": {},
   "source": [
    "## 'After' label"
   ]
  },
  {
   "cell_type": "code",
   "execution_count": 68,
   "id": "628f49de-5df3-4b00-9c60-45dc55186cb1",
   "metadata": {},
   "outputs": [],
   "source": [
    "after = original.loc[original.index == diff]"
   ]
  },
  {
   "cell_type": "markdown",
   "id": "7834e948-936b-44c2-b5c9-58a2805f3692",
   "metadata": {},
   "source": [
    "## Post-update comparison"
   ]
  },
  {
   "cell_type": "code",
   "execution_count": 69,
   "id": "442d9c3c-e70b-40ff-8b14-214fbc85a112",
   "metadata": {},
   "outputs": [
    {
     "data": {
      "text/html": [
       "<div>\n",
       "<style scoped>\n",
       "    .dataframe tbody tr th:only-of-type {\n",
       "        vertical-align: middle;\n",
       "    }\n",
       "\n",
       "    .dataframe tbody tr th {\n",
       "        vertical-align: top;\n",
       "    }\n",
       "\n",
       "    .dataframe thead th {\n",
       "        text-align: right;\n",
       "    }\n",
       "</style>\n",
       "<table border=\"1\" class=\"dataframe\">\n",
       "  <thead>\n",
       "    <tr style=\"text-align: right;\">\n",
       "      <th></th>\n",
       "      <th>code</th>\n",
       "      <th>complexity</th>\n",
       "    </tr>\n",
       "  </thead>\n",
       "  <tbody>\n",
       "    <tr>\n",
       "      <th>22</th>\n",
       "      <td>class Solution(object):\\n    def toHexspeak(se...</td>\n",
       "      <td>O(n)</td>\n",
       "    </tr>\n",
       "  </tbody>\n",
       "</table>\n",
       "</div>"
      ],
      "text/plain": [
       "                                                 code complexity\n",
       "22  class Solution(object):\\n    def toHexspeak(se...       O(n)"
      ]
     },
     "execution_count": 69,
     "metadata": {},
     "output_type": "execute_result"
    }
   ],
   "source": [
    "before"
   ]
  },
  {
   "cell_type": "code",
   "execution_count": 70,
   "id": "853ebb26-42f0-4238-9811-535ed56dd375",
   "metadata": {},
   "outputs": [
    {
     "data": {
      "text/html": [
       "<div>\n",
       "<style scoped>\n",
       "    .dataframe tbody tr th:only-of-type {\n",
       "        vertical-align: middle;\n",
       "    }\n",
       "\n",
       "    .dataframe tbody tr th {\n",
       "        vertical-align: top;\n",
       "    }\n",
       "\n",
       "    .dataframe thead th {\n",
       "        text-align: right;\n",
       "    }\n",
       "</style>\n",
       "<table border=\"1\" class=\"dataframe\">\n",
       "  <thead>\n",
       "    <tr style=\"text-align: right;\">\n",
       "      <th></th>\n",
       "      <th>complexity</th>\n",
       "    </tr>\n",
       "    <tr>\n",
       "      <th>code</th>\n",
       "      <th></th>\n",
       "    </tr>\n",
       "  </thead>\n",
       "  <tbody>\n",
       "    <tr>\n",
       "      <th>class Solution(object):\\n    def toHexspeak(self, num):\\n        lookup = {0:'O', 1:'I'}\\n        for i in range(6):\\n            lookup[10+i] = chr(ord('A')+i)\\n        result = []\\n        n = int(num)\\n        while n:\\n            n, r = divmod(n, 16)\\n            if r not in lookup:\\n                return \"ERROR\"\\n            result.append(lookup[r])\\n        return \"\".join(reversed(result))</th>\n",
       "      <td>O(logn)</td>\n",
       "    </tr>\n",
       "  </tbody>\n",
       "</table>\n",
       "</div>"
      ],
      "text/plain": [
       "                                                   complexity\n",
       "code                                                         \n",
       "class Solution(object):\\n    def toHexspeak(sel...    O(logn)"
      ]
     },
     "execution_count": 70,
     "metadata": {},
     "output_type": "execute_result"
    }
   ],
   "source": [
    "after"
   ]
  },
  {
   "cell_type": "markdown",
   "id": "482c3ff9-3005-4dd3-b042-b300900c0bc7",
   "metadata": {},
   "source": [
    "## Save back"
   ]
  },
  {
   "cell_type": "markdown",
   "id": "7062929e-bf43-417f-ad20-af52a2e4750f",
   "metadata": {},
   "source": [
    "### Get the col back"
   ]
  },
  {
   "cell_type": "code",
   "execution_count": 71,
   "id": "aefd826b-b6f0-46e1-a672-5e5d977a0bb6",
   "metadata": {},
   "outputs": [
    {
     "data": {
      "text/html": [
       "<div>\n",
       "<style scoped>\n",
       "    .dataframe tbody tr th:only-of-type {\n",
       "        vertical-align: middle;\n",
       "    }\n",
       "\n",
       "    .dataframe tbody tr th {\n",
       "        vertical-align: top;\n",
       "    }\n",
       "\n",
       "    .dataframe thead th {\n",
       "        text-align: right;\n",
       "    }\n",
       "</style>\n",
       "<table border=\"1\" class=\"dataframe\">\n",
       "  <thead>\n",
       "    <tr style=\"text-align: right;\">\n",
       "      <th></th>\n",
       "      <th>code</th>\n",
       "      <th>complexity</th>\n",
       "    </tr>\n",
       "  </thead>\n",
       "  <tbody>\n",
       "    <tr>\n",
       "      <th>0</th>\n",
       "      <td>class Solution(object):\\n    def minimumLines(...</td>\n",
       "      <td>O(nlogn)</td>\n",
       "    </tr>\n",
       "    <tr>\n",
       "      <th>1</th>\n",
       "      <td>class Solution(object):\\n    def lastVisitedIn...</td>\n",
       "      <td>O(n)</td>\n",
       "    </tr>\n",
       "    <tr>\n",
       "      <th>2</th>\n",
       "      <td>\\nclass TreeNode(object):\\n    def __init__(se...</td>\n",
       "      <td>O(n)</td>\n",
       "    </tr>\n",
       "    <tr>\n",
       "      <th>3</th>\n",
       "      <td>MOD = 10**9+7\\nFACT, INV, INV_FACT = [[1]*2 fo...</td>\n",
       "      <td>O(nlogn)</td>\n",
       "    </tr>\n",
       "    <tr>\n",
       "      <th>4</th>\n",
       "      <td>class Solution(object):\\n    def countFairPair...</td>\n",
       "      <td>O(nlogn)</td>\n",
       "    </tr>\n",
       "    <tr>\n",
       "      <th>...</th>\n",
       "      <td>...</td>\n",
       "      <td>...</td>\n",
       "    </tr>\n",
       "    <tr>\n",
       "      <th>2490</th>\n",
       "      <td>class Solution(object):\\n    def postorder(sel...</td>\n",
       "      <td>O(n)</td>\n",
       "    </tr>\n",
       "    <tr>\n",
       "      <th>2491</th>\n",
       "      <td>class Solution2(object):\\n    def postorder(se...</td>\n",
       "      <td>O(n)</td>\n",
       "    </tr>\n",
       "    <tr>\n",
       "      <th>2492</th>\n",
       "      <td>class Solution2(object):\\n    def largestSumAf...</td>\n",
       "      <td>O(nlogn)</td>\n",
       "    </tr>\n",
       "    <tr>\n",
       "      <th>2493</th>\n",
       "      <td>class Solution(object):\\n    def findMin(self,...</td>\n",
       "      <td>O(logn)</td>\n",
       "    </tr>\n",
       "    <tr>\n",
       "      <th>2494</th>\n",
       "      <td>class Solution2(object):\\n    def findMin(self...</td>\n",
       "      <td>O(logn)</td>\n",
       "    </tr>\n",
       "  </tbody>\n",
       "</table>\n",
       "<p>2495 rows × 2 columns</p>\n",
       "</div>"
      ],
      "text/plain": [
       "                                                   code complexity\n",
       "0     class Solution(object):\\n    def minimumLines(...   O(nlogn)\n",
       "1     class Solution(object):\\n    def lastVisitedIn...       O(n)\n",
       "2     \\nclass TreeNode(object):\\n    def __init__(se...       O(n)\n",
       "3     MOD = 10**9+7\\nFACT, INV, INV_FACT = [[1]*2 fo...   O(nlogn)\n",
       "4     class Solution(object):\\n    def countFairPair...   O(nlogn)\n",
       "...                                                 ...        ...\n",
       "2490  class Solution(object):\\n    def postorder(sel...       O(n)\n",
       "2491  class Solution2(object):\\n    def postorder(se...       O(n)\n",
       "2492  class Solution2(object):\\n    def largestSumAf...   O(nlogn)\n",
       "2493  class Solution(object):\\n    def findMin(self,...    O(logn)\n",
       "2494  class Solution2(object):\\n    def findMin(self...    O(logn)\n",
       "\n",
       "[2495 rows x 2 columns]"
      ]
     },
     "execution_count": 71,
     "metadata": {},
     "output_type": "execute_result"
    }
   ],
   "source": [
    "original.reset_index(inplace=True)\n",
    "original"
   ]
  },
  {
   "cell_type": "code",
   "execution_count": 73,
   "id": "df1713e6-5102-424b-b13b-6c25eb4697a0",
   "metadata": {},
   "outputs": [],
   "source": [
    "original.to_csv(\"../data/leetcode-parsed/clean_leetcode_data.csv\", index=False)\n"
   ]
  }
 ],
 "metadata": {
  "kernelspec": {
   "display_name": "Python 3 (ipykernel)",
   "language": "python",
   "name": "python3"
  },
  "language_info": {
   "codemirror_mode": {
    "name": "ipython",
    "version": 3
   },
   "file_extension": ".py",
   "mimetype": "text/x-python",
   "name": "python",
   "nbconvert_exporter": "python",
   "pygments_lexer": "ipython3",
   "version": "3.13.0"
  }
 },
 "nbformat": 4,
 "nbformat_minor": 5
}
