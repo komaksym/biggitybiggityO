{
 "cells": [
  {
   "cell_type": "markdown",
   "id": "2a31a870-60d2-45a6-b8c5-7c583bcef0fe",
   "metadata": {},
   "source": [
    "# Imports"
   ]
  },
  {
   "cell_type": "code",
   "execution_count": 64,
   "id": "f2d31c4d-3f78-43aa-b78e-0be0adf9695b",
   "metadata": {},
   "outputs": [],
   "source": [
    "import pandas as pd"
   ]
  },
  {
   "cell_type": "markdown",
   "id": "81299b17-7c86-4eb0-99c6-56e92d819dc0",
   "metadata": {},
   "source": [
    "# Reading files"
   ]
  },
  {
   "cell_type": "code",
   "execution_count": 65,
   "id": "dc6da31f-fe7d-414d-b49c-006521dce38e",
   "metadata": {},
   "outputs": [],
   "source": [
    "scraped_data = pd.read_json(\"../data/neetcode_data.jsonl\", lines=True)\n",
    "original_data = pd.read_json(\"../data/codecomplex_data.jsonl\", lines=True)"
   ]
  },
  {
   "cell_type": "markdown",
   "id": "b2598015-1ff2-443d-9458-cf8f7bcbd0af",
   "metadata": {},
   "source": [
    "# Renaming columns"
   ]
  },
  {
   "cell_type": "code",
   "execution_count": 66,
   "id": "4075480e-c90d-48b9-ac70-9d36bce10471",
   "metadata": {},
   "outputs": [],
   "source": [
    "scraped_data.rename(columns={'time_complexity': 'complexity'}, inplace=True)\n",
    "original_data.rename(columns={'src': 'code'}, inplace=True)"
   ]
  },
  {
   "cell_type": "markdown",
   "id": "e9e34a2e-0ed6-4af8-bff7-75f93d573a11",
   "metadata": {},
   "source": [
    "# Dropping columns"
   ]
  },
  {
   "cell_type": "code",
   "execution_count": 67,
   "id": "4100057c-a509-4634-8957-1d982de8261e",
   "metadata": {},
   "outputs": [],
   "source": [
    "original_data = original_data.iloc[:, :2]"
   ]
  },
  {
   "cell_type": "code",
   "execution_count": 68,
   "id": "bff55fb2-f9b8-4e2d-aca0-d82f54c09377",
   "metadata": {},
   "outputs": [
    {
     "data": {
      "text/plain": [
       "complexity\n",
       "O(n)        853\n",
       "O(nlogn)    796\n",
       "O(1)        791\n",
       "O(logn)     669\n",
       "O(n ^ 2)    657\n",
       "O(n ^ 3)    606\n",
       "np          528\n",
       "Name: count, dtype: int64"
      ]
     },
     "execution_count": 68,
     "metadata": {},
     "output_type": "execute_result"
    }
   ],
   "source": [
    "original_data['complexity'].value_counts()"
   ]
  },
  {
   "cell_type": "markdown",
   "id": "ae181f98-3452-4f91-95e7-9e4fdeed7f1e",
   "metadata": {},
   "source": [
    "**Dropping *other* time complexity classes and *linear* class, to have the distribution of classes as close to normal as possible.**"
   ]
  },
  {
   "cell_type": "code",
   "execution_count": 69,
   "id": "99539f5e-3cbf-4f75-91bb-fe7ffda042c1",
   "metadata": {},
   "outputs": [],
   "source": [
    "index = scraped_data[scraped_data.loc[:, 'complexity'].apply(lambda row: row in ['other', 'linear'])].index\n",
    "scraped_data.drop(index, inplace=True)"
   ]
  },
  {
   "cell_type": "code",
   "execution_count": 70,
   "id": "c0f8e10a-fa4f-4db6-a017-0ffe4606e664",
   "metadata": {},
   "outputs": [
    {
     "data": {
      "text/plain": [
       "complexity\n",
       "O(n)        142\n",
       "O(n ^ 2)     49\n",
       "O(nlogn)     35\n",
       "O(logn)      17\n",
       "O(1)         15\n",
       "O(2 ^ n)     11\n",
       "O(n!)         6\n",
       "O(n ^ 3)      4\n",
       "Name: count, dtype: int64"
      ]
     },
     "execution_count": 70,
     "metadata": {},
     "output_type": "execute_result"
    }
   ],
   "source": [
    "scraped_data['complexity'].value_counts()"
   ]
  },
  {
   "cell_type": "markdown",
   "id": "dd773e17-3da8-4e9f-b49b-18ef6bc93943",
   "metadata": {},
   "source": [
    "# Merging the two datasets"
   ]
  },
  {
   "cell_type": "markdown",
   "id": "a3967444-a03e-46eb-910e-9e8ba5568b10",
   "metadata": {},
   "source": [
    "**Final dataset:**"
   ]
  },
  {
   "cell_type": "code",
   "execution_count": 71,
   "id": "19c2b74a-8dd6-4bfb-9403-01dfa11397bb",
   "metadata": {},
   "outputs": [
    {
     "data": {
      "text/plain": [
       "(5179, 2)"
      ]
     },
     "execution_count": 71,
     "metadata": {},
     "output_type": "execute_result"
    }
   ],
   "source": [
    "merged = pd.concat([original_data, scraped_data])\n",
    "merged.shape"
   ]
  },
  {
   "cell_type": "markdown",
   "id": "f3d26381-df60-4b55-bb5c-fcff63a58cc4",
   "metadata": {},
   "source": [
    "# Checking nan entries"
   ]
  },
  {
   "cell_type": "code",
   "execution_count": 72,
   "id": "58f05aae-4520-4f35-834c-6b1df97dd2b1",
   "metadata": {},
   "outputs": [
    {
     "data": {
      "text/plain": [
       "np.int64(0)"
      ]
     },
     "execution_count": 72,
     "metadata": {},
     "output_type": "execute_result"
    }
   ],
   "source": [
    "merged.isna().sum().sum()"
   ]
  },
  {
   "cell_type": "markdown",
   "id": "1e9aeefb-a597-482b-a1be-6c58e4ffc243",
   "metadata": {},
   "source": [
    "# Checking duplicates"
   ]
  },
  {
   "cell_type": "code",
   "execution_count": 73,
   "id": "0969dbf5-5a52-486e-bf4b-1692928d140a",
   "metadata": {},
   "outputs": [
    {
     "name": "stdout",
     "output_type": "stream",
     "text": [
      "There are 240 of duplicates.\n"
     ]
    }
   ],
   "source": [
    "num_of_dups = merged['code'].duplicated().sum()\n",
    "print(f\"There are {num_of_dups} of duplicates.\")"
   ]
  },
  {
   "cell_type": "code",
   "execution_count": 74,
   "id": "93ead834-31c2-406b-9001-b29b549a8767",
   "metadata": {},
   "outputs": [
    {
     "data": {
      "text/html": [
       "<div>\n",
       "<style scoped>\n",
       "    .dataframe tbody tr th:only-of-type {\n",
       "        vertical-align: middle;\n",
       "    }\n",
       "\n",
       "    .dataframe tbody tr th {\n",
       "        vertical-align: top;\n",
       "    }\n",
       "\n",
       "    .dataframe thead th {\n",
       "        text-align: right;\n",
       "    }\n",
       "</style>\n",
       "<table border=\"1\" class=\"dataframe\">\n",
       "  <thead>\n",
       "    <tr style=\"text-align: right;\">\n",
       "      <th></th>\n",
       "      <th>code</th>\n",
       "      <th>complexity</th>\n",
       "    </tr>\n",
       "  </thead>\n",
       "  <tbody>\n",
       "    <tr>\n",
       "      <th>17</th>\n",
       "      <td>import math\\n\\ndef getdt():\\n    return map(in...</td>\n",
       "      <td>O(1)</td>\n",
       "    </tr>\n",
       "    <tr>\n",
       "      <th>18</th>\n",
       "      <td>import math\\n\\ndef getdt():\\n    return map(in...</td>\n",
       "      <td>O(1)</td>\n",
       "    </tr>\n",
       "    <tr>\n",
       "      <th>29</th>\n",
       "      <td>n = int(input())\\nprint(3*n//2)</td>\n",
       "      <td>O(1)</td>\n",
       "    </tr>\n",
       "    <tr>\n",
       "      <th>30</th>\n",
       "      <td>n = int(input())\\nprint(int(3 * n / 2))</td>\n",
       "      <td>O(1)</td>\n",
       "    </tr>\n",
       "    <tr>\n",
       "      <th>77</th>\n",
       "      <td>n=int(input())\\nif(n&lt;3):\\n    print(n)\\nelse:\\...</td>\n",
       "      <td>O(1)</td>\n",
       "    </tr>\n",
       "    <tr>\n",
       "      <th>...</th>\n",
       "      <td>...</td>\n",
       "      <td>...</td>\n",
       "    </tr>\n",
       "    <tr>\n",
       "      <th>4842</th>\n",
       "      <td>import math\\ndef f(n,s):\\n    d=[-n,-n];d[s]=0...</td>\n",
       "      <td>np</td>\n",
       "    </tr>\n",
       "    <tr>\n",
       "      <th>4843</th>\n",
       "      <td>def f(n,s):\\n    d=[-n,-n];\\n    d[s]=0;\\n    ...</td>\n",
       "      <td>np</td>\n",
       "    </tr>\n",
       "    <tr>\n",
       "      <th>4856</th>\n",
       "      <td>import sys\\ninput = sys.stdin.readline\\n\\ndef ...</td>\n",
       "      <td>np</td>\n",
       "    </tr>\n",
       "    <tr>\n",
       "      <th>4895</th>\n",
       "      <td>import sys\\ninput = sys.stdin.readline\\n\\nn, k...</td>\n",
       "      <td>np</td>\n",
       "    </tr>\n",
       "    <tr>\n",
       "      <th>4898</th>\n",
       "      <td>import sys;input = sys.stdin.readline;n, k = m...</td>\n",
       "      <td>np</td>\n",
       "    </tr>\n",
       "  </tbody>\n",
       "</table>\n",
       "<p>240 rows × 2 columns</p>\n",
       "</div>"
      ],
      "text/plain": [
       "                                                   code complexity\n",
       "17    import math\\n\\ndef getdt():\\n    return map(in...       O(1)\n",
       "18    import math\\n\\ndef getdt():\\n    return map(in...       O(1)\n",
       "29                      n = int(input())\\nprint(3*n//2)       O(1)\n",
       "30              n = int(input())\\nprint(int(3 * n / 2))       O(1)\n",
       "77    n=int(input())\\nif(n<3):\\n    print(n)\\nelse:\\...       O(1)\n",
       "...                                                 ...        ...\n",
       "4842  import math\\ndef f(n,s):\\n    d=[-n,-n];d[s]=0...         np\n",
       "4843  def f(n,s):\\n    d=[-n,-n];\\n    d[s]=0;\\n    ...         np\n",
       "4856  import sys\\ninput = sys.stdin.readline\\n\\ndef ...         np\n",
       "4895  import sys\\ninput = sys.stdin.readline\\n\\nn, k...         np\n",
       "4898  import sys;input = sys.stdin.readline;n, k = m...         np\n",
       "\n",
       "[240 rows x 2 columns]"
      ]
     },
     "execution_count": 74,
     "metadata": {},
     "output_type": "execute_result"
    }
   ],
   "source": [
    "merged[merged['code'].duplicated()]"
   ]
  },
  {
   "cell_type": "markdown",
   "id": "9902339a-97e1-4fc1-8c87-62f6d0b8d707",
   "metadata": {},
   "source": [
    "## Dropping duplicates"
   ]
  },
  {
   "cell_type": "code",
   "execution_count": 75,
   "id": "ca8235a7-7fb5-413d-a6b4-4171cec15d13",
   "metadata": {},
   "outputs": [
    {
     "data": {
      "text/plain": [
       "np.int64(0)"
      ]
     },
     "execution_count": 75,
     "metadata": {},
     "output_type": "execute_result"
    }
   ],
   "source": [
    "merged = merged.drop_duplicates()\n",
    "merged.duplicated().sum()"
   ]
  },
  {
   "cell_type": "markdown",
   "id": "18ef34d7-1ebd-41bf-8861-9e2861a2be79",
   "metadata": {},
   "source": [
    "# Final class distribution"
   ]
  },
  {
   "cell_type": "code",
   "execution_count": 76,
   "id": "9b7723a4-87f2-4eb7-9d63-0df5ae9f678c",
   "metadata": {},
   "outputs": [
    {
     "data": {
      "text/plain": [
       "complexity\n",
       "O(n)        972\n",
       "O(nlogn)    807\n",
       "O(1)        778\n",
       "O(n ^ 2)    689\n",
       "O(logn)     668\n",
       "O(n ^ 3)    570\n",
       "np          497\n",
       "O(2 ^ n)     11\n",
       "O(n!)         6\n",
       "Name: count, dtype: int64"
      ]
     },
     "execution_count": 76,
     "metadata": {},
     "output_type": "execute_result"
    }
   ],
   "source": [
    "merged['complexity'].value_counts()"
   ]
  },
  {
   "cell_type": "markdown",
   "id": "8c49d1b4-1d02-40af-b1d0-9e62900bfb2a",
   "metadata": {},
   "source": [
    "# Saving as .csv"
   ]
  },
  {
   "cell_type": "code",
   "execution_count": 78,
   "id": "b0c11911-5acd-4996-adb0-efca0affbfaf",
   "metadata": {},
   "outputs": [],
   "source": [
    "merged.to_csv('../codecomplex_neetcode_merged.csv', index=False)"
   ]
  },
  {
   "cell_type": "code",
   "execution_count": null,
   "id": "69daaba2-2b0c-43ae-ac4c-a001bbeea44d",
   "metadata": {},
   "outputs": [],
   "source": []
  }
 ],
 "metadata": {
  "kernelspec": {
   "display_name": "Python 3 (ipykernel)",
   "language": "python",
   "name": "python3"
  },
  "language_info": {
   "codemirror_mode": {
    "name": "ipython",
    "version": 3
   },
   "file_extension": ".py",
   "mimetype": "text/x-python",
   "name": "python",
   "nbconvert_exporter": "python",
   "pygments_lexer": "ipython3",
   "version": "3.13.0"
  }
 },
 "nbformat": 4,
 "nbformat_minor": 5
}
