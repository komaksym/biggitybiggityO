{
 "cells": [
  {
   "cell_type": "markdown",
   "id": "2a31a870-60d2-45a6-b8c5-7c583bcef0fe",
   "metadata": {},
   "source": [
    "# Imports"
   ]
  },
  {
   "cell_type": "code",
   "execution_count": 1,
   "id": "f2d31c4d-3f78-43aa-b78e-0be0adf9695b",
   "metadata": {},
   "outputs": [],
   "source": [
    "import pandas as pd"
   ]
  },
  {
   "cell_type": "markdown",
   "id": "81299b17-7c86-4eb0-99c6-56e92d819dc0",
   "metadata": {},
   "source": [
    "# Reading files"
   ]
  },
  {
   "cell_type": "code",
   "execution_count": 55,
   "id": "b775f05e-8bc2-4165-bc77-15a3ce39651b",
   "metadata": {},
   "outputs": [],
   "source": [
    "messy_data_clear_labels = pd.read_csv(\"../data/leetcode-parsed/clear_labels_messy_leetcode_data.csv\")"
   ]
  },
  {
   "cell_type": "code",
   "execution_count": 57,
   "id": "5262aa81-b375-4969-b973-e935e607ad51",
   "metadata": {},
   "outputs": [
    {
     "data": {
      "text/plain": [
       "complexity\n",
       "O(n)        117\n",
       "O(nlogn)     31\n",
       "O(n ^ 2)     25\n",
       "O(1)         21\n",
       "O(logn)       9\n",
       "O(n ^ 3)      7\n",
       "O(2 ^ n)      3\n",
       "Name: count, dtype: int64"
      ]
     },
     "execution_count": 57,
     "metadata": {},
     "output_type": "execute_result"
    }
   ],
   "source": [
    "messy_data_clear_labels['complexity'].value_counts()"
   ]
  },
  {
   "cell_type": "code",
   "execution_count": 36,
   "id": "0ad5c71b-282d-4de1-bd42-e836b394b6b7",
   "metadata": {},
   "outputs": [
    {
     "data": {
      "text/plain": [
       "label\n",
       "# Time:  O(n)                                                                          117\n",
       "# Time:  O(nlogn)                                                                       33\n",
       "# Time:  O(n^2)                                                                         25\n",
       "# Time:  O(1)                                                                           21\n",
       "# Time:  O(m * n)                                                                       20\n",
       "# Time:  O(n * k)                                                                       10\n",
       "# Time:  O(logn)                                                                         9\n",
       "# Time:  O(n^3)                                                                          7\n",
       "# Time:  O(n + m)                                                                        6\n",
       "# Time:  O(nlogr), r = max(nums)                                                         6\n",
       "# Time:  O(logn) = O(1)                                                                  6\n",
       "# Time:  O(n + r), r = max(nums)                                                         5\n",
       "# Time:  O(nlogr), r = max(max(a), max(b), max(c))                                       4\n",
       "# Time:  O(n) on average, using Median of Medians could achieve O(n) (Intro Select)      4\n",
       "# Time:  O(n * n!)                                                                       4\n",
       "Name: count, dtype: int64"
      ]
     },
     "execution_count": 36,
     "metadata": {},
     "output_type": "execute_result"
    }
   ],
   "source": [
    "messy_data = pd.read_csv(\"../data/leetcode-parsed/messy_leetcode_data.csv\")\n",
    "messy_data['label'].value_counts()[:15]"
   ]
  },
  {
   "cell_type": "code",
   "execution_count": 38,
   "id": "51d45a69-da6b-4112-b240-d5dbc26f431e",
   "metadata": {},
   "outputs": [
    {
     "data": {
      "text/plain": [
       "0                        # Time:  O(1) ~ O(n), n is 10^3\n",
       "1                               # Time:  O(n), n is 10^3\n",
       "2                        # Time:  O(1) ~ O(n), n is 10^3\n",
       "3                    # Time:  O(1) ~ O(nlogn), n is 10^3\n",
       "4                                      # Time:  O(n + l)\n",
       "                             ...                        \n",
       "606                                     # Time:  O(logn)\n",
       "607                                     # Time:  O(logn)\n",
       "608    # Time:  O(a + d), a is the number of grids co...\n",
       "609    # Time:  O(a + d), a is the number of grids co...\n",
       "610    # Time:  O(m * n * 4 * 3^(h - 1)) ~= O(m * n *...\n",
       "Name: label, Length: 611, dtype: object"
      ]
     },
     "execution_count": 38,
     "metadata": {},
     "output_type": "execute_result"
    }
   ],
   "source": [
    "messy_data['label']"
   ]
  },
  {
   "cell_type": "code",
   "execution_count": 10,
   "id": "dc6da31f-fe7d-414d-b49c-006521dce38e",
   "metadata": {},
   "outputs": [],
   "source": [
    "merged_data = pd.read_csv(\"../data/codecomplex_neetcode_merged_data.csv\")\n",
    "ai_relabeled_clean_leetcode = pd.read_csv(\"../data/leetcode-parsed/label_updated_clean_leetcode_data.csv\")"
   ]
  },
  {
   "cell_type": "code",
   "execution_count": 12,
   "id": "609ffce5-e014-4c0a-8b72-3690e565cc3c",
   "metadata": {},
   "outputs": [
    {
     "data": {
      "text/plain": [
       "complexity\n",
       "O(n)        972\n",
       "O(nlogn)    807\n",
       "O(1)        778\n",
       "O(n ^ 2)    689\n",
       "O(logn)     668\n",
       "O(n ^ 3)    570\n",
       "np          497\n",
       "O(2 ^ n)     11\n",
       "O(n!)         6\n",
       "Name: count, dtype: int64"
      ]
     },
     "execution_count": 12,
     "metadata": {},
     "output_type": "execute_result"
    }
   ],
   "source": [
    "merged_data['complexity'].value_counts()"
   ]
  },
  {
   "cell_type": "code",
   "execution_count": 13,
   "id": "30d5f294-ce3f-4c5a-a9f2-ff175868e2e0",
   "metadata": {},
   "outputs": [
    {
     "data": {
      "text/plain": [
       "complexity\n",
       "O(n)        1421\n",
       "O(nlogn)     321\n",
       "O(n ^ 2)     193\n",
       "O(1)         173\n",
       "O(logn)      101\n",
       "O(n ^ 3)      26\n",
       "O(n!)          5\n",
       "Name: count, dtype: int64"
      ]
     },
     "execution_count": 13,
     "metadata": {},
     "output_type": "execute_result"
    }
   ],
   "source": [
    "ai_relabeled_clean_leetcode['complexity'].value_counts()"
   ]
  },
  {
   "cell_type": "code",
   "execution_count": null,
   "id": "d3cc0fcd-f86b-40cc-9927-b30b80892b25",
   "metadata": {},
   "outputs": [],
   "source": [
    "scraped_data['complexity'].value_counts()"
   ]
  },
  {
   "cell_type": "markdown",
   "id": "b2598015-1ff2-443d-9458-cf8f7bcbd0af",
   "metadata": {},
   "source": [
    "# Renaming columns"
   ]
  },
  {
   "cell_type": "code",
   "execution_count": 66,
   "id": "4075480e-c90d-48b9-ac70-9d36bce10471",
   "metadata": {},
   "outputs": [],
   "source": [
    "scraped_data.rename(columns={'time_complexity': 'complexity'}, inplace=True)\n",
    "original_data.rename(columns={'src': 'code'}, inplace=True)"
   ]
  },
  {
   "cell_type": "markdown",
   "id": "e9e34a2e-0ed6-4af8-bff7-75f93d573a11",
   "metadata": {},
   "source": [
    "# Dropping columns"
   ]
  },
  {
   "cell_type": "code",
   "execution_count": 67,
   "id": "4100057c-a509-4634-8957-1d982de8261e",
   "metadata": {},
   "outputs": [],
   "source": [
    "original_data = original_data.iloc[:, :2]"
   ]
  },
  {
   "cell_type": "code",
   "execution_count": 68,
   "id": "bff55fb2-f9b8-4e2d-aca0-d82f54c09377",
   "metadata": {},
   "outputs": [
    {
     "data": {
      "text/plain": [
       "complexity\n",
       "O(n)        853\n",
       "O(nlogn)    796\n",
       "O(1)        791\n",
       "O(logn)     669\n",
       "O(n ^ 2)    657\n",
       "O(n ^ 3)    606\n",
       "np          528\n",
       "Name: count, dtype: int64"
      ]
     },
     "execution_count": 68,
     "metadata": {},
     "output_type": "execute_result"
    }
   ],
   "source": [
    "original_data['complexity'].value_counts()"
   ]
  },
  {
   "cell_type": "markdown",
   "id": "ae181f98-3452-4f91-95e7-9e4fdeed7f1e",
   "metadata": {},
   "source": [
    "### Dropping *other* time complexity classes and *linear* class, to have the distribution of classes as close to uniform as possible."
   ]
  },
  {
   "cell_type": "code",
   "execution_count": 25,
   "id": "99539f5e-3cbf-4f75-91bb-fe7ffda042c1",
   "metadata": {},
   "outputs": [],
   "source": [
    "index = ai_relabeled_clean_leetcode[ai_relabeled_clean_leetcode.loc[:, 'complexity'].apply(lambda row: row in ['other', 'linear'])].index\n",
    "ai_relabeled_clean_leetcode.drop(index, inplace=True)"
   ]
  },
  {
   "cell_type": "code",
   "execution_count": 26,
   "id": "c0f8e10a-fa4f-4db6-a017-0ffe4606e664",
   "metadata": {},
   "outputs": [
    {
     "data": {
      "text/plain": [
       "complexity\n",
       "O(n)        1421\n",
       "O(nlogn)     321\n",
       "O(n ^ 2)     193\n",
       "O(1)         173\n",
       "O(logn)      101\n",
       "O(n ^ 3)      26\n",
       "O(n!)          5\n",
       "Name: count, dtype: int64"
      ]
     },
     "execution_count": 26,
     "metadata": {},
     "output_type": "execute_result"
    }
   ],
   "source": [
    "ai_relabeled_clean_leetcode['complexity'].value_counts()"
   ]
  },
  {
   "cell_type": "markdown",
   "id": "dd773e17-3da8-4e9f-b49b-18ef6bc93943",
   "metadata": {},
   "source": [
    "# Merging the two datasets"
   ]
  },
  {
   "cell_type": "markdown",
   "id": "a3967444-a03e-46eb-910e-9e8ba5568b10",
   "metadata": {},
   "source": [
    "**Final dataset:**"
   ]
  },
  {
   "cell_type": "code",
   "execution_count": 71,
   "id": "19c2b74a-8dd6-4bfb-9403-01dfa11397bb",
   "metadata": {},
   "outputs": [
    {
     "data": {
      "text/plain": [
       "(5179, 2)"
      ]
     },
     "execution_count": 71,
     "metadata": {},
     "output_type": "execute_result"
    }
   ],
   "source": [
    "merged = pd.concat([original_data, scraped_data])\n",
    "merged.shape"
   ]
  },
  {
   "cell_type": "markdown",
   "id": "f3d26381-df60-4b55-bb5c-fcff63a58cc4",
   "metadata": {},
   "source": [
    "# Checking nan entries"
   ]
  },
  {
   "cell_type": "code",
   "execution_count": 72,
   "id": "58f05aae-4520-4f35-834c-6b1df97dd2b1",
   "metadata": {},
   "outputs": [
    {
     "data": {
      "text/plain": [
       "np.int64(0)"
      ]
     },
     "execution_count": 72,
     "metadata": {},
     "output_type": "execute_result"
    }
   ],
   "source": [
    "merged.isna().sum().sum()"
   ]
  },
  {
   "cell_type": "markdown",
   "id": "1e9aeefb-a597-482b-a1be-6c58e4ffc243",
   "metadata": {},
   "source": [
    "# Checking duplicates"
   ]
  },
  {
   "cell_type": "code",
   "execution_count": 73,
   "id": "0969dbf5-5a52-486e-bf4b-1692928d140a",
   "metadata": {},
   "outputs": [
    {
     "name": "stdout",
     "output_type": "stream",
     "text": [
      "There are 240 of duplicates.\n"
     ]
    }
   ],
   "source": [
    "num_of_dups = merged['code'].duplicated().sum()\n",
    "print(f\"There are {num_of_dups} of duplicates.\")"
   ]
  },
  {
   "cell_type": "code",
   "execution_count": 74,
   "id": "93ead834-31c2-406b-9001-b29b549a8767",
   "metadata": {},
   "outputs": [
    {
     "data": {
      "text/html": [
       "<div>\n",
       "<style scoped>\n",
       "    .dataframe tbody tr th:only-of-type {\n",
       "        vertical-align: middle;\n",
       "    }\n",
       "\n",
       "    .dataframe tbody tr th {\n",
       "        vertical-align: top;\n",
       "    }\n",
       "\n",
       "    .dataframe thead th {\n",
       "        text-align: right;\n",
       "    }\n",
       "</style>\n",
       "<table border=\"1\" class=\"dataframe\">\n",
       "  <thead>\n",
       "    <tr style=\"text-align: right;\">\n",
       "      <th></th>\n",
       "      <th>code</th>\n",
       "      <th>complexity</th>\n",
       "    </tr>\n",
       "  </thead>\n",
       "  <tbody>\n",
       "    <tr>\n",
       "      <th>17</th>\n",
       "      <td>import math\\n\\ndef getdt():\\n    return map(in...</td>\n",
       "      <td>O(1)</td>\n",
       "    </tr>\n",
       "    <tr>\n",
       "      <th>18</th>\n",
       "      <td>import math\\n\\ndef getdt():\\n    return map(in...</td>\n",
       "      <td>O(1)</td>\n",
       "    </tr>\n",
       "    <tr>\n",
       "      <th>29</th>\n",
       "      <td>n = int(input())\\nprint(3*n//2)</td>\n",
       "      <td>O(1)</td>\n",
       "    </tr>\n",
       "    <tr>\n",
       "      <th>30</th>\n",
       "      <td>n = int(input())\\nprint(int(3 * n / 2))</td>\n",
       "      <td>O(1)</td>\n",
       "    </tr>\n",
       "    <tr>\n",
       "      <th>77</th>\n",
       "      <td>n=int(input())\\nif(n&lt;3):\\n    print(n)\\nelse:\\...</td>\n",
       "      <td>O(1)</td>\n",
       "    </tr>\n",
       "    <tr>\n",
       "      <th>...</th>\n",
       "      <td>...</td>\n",
       "      <td>...</td>\n",
       "    </tr>\n",
       "    <tr>\n",
       "      <th>4842</th>\n",
       "      <td>import math\\ndef f(n,s):\\n    d=[-n,-n];d[s]=0...</td>\n",
       "      <td>np</td>\n",
       "    </tr>\n",
       "    <tr>\n",
       "      <th>4843</th>\n",
       "      <td>def f(n,s):\\n    d=[-n,-n];\\n    d[s]=0;\\n    ...</td>\n",
       "      <td>np</td>\n",
       "    </tr>\n",
       "    <tr>\n",
       "      <th>4856</th>\n",
       "      <td>import sys\\ninput = sys.stdin.readline\\n\\ndef ...</td>\n",
       "      <td>np</td>\n",
       "    </tr>\n",
       "    <tr>\n",
       "      <th>4895</th>\n",
       "      <td>import sys\\ninput = sys.stdin.readline\\n\\nn, k...</td>\n",
       "      <td>np</td>\n",
       "    </tr>\n",
       "    <tr>\n",
       "      <th>4898</th>\n",
       "      <td>import sys;input = sys.stdin.readline;n, k = m...</td>\n",
       "      <td>np</td>\n",
       "    </tr>\n",
       "  </tbody>\n",
       "</table>\n",
       "<p>240 rows × 2 columns</p>\n",
       "</div>"
      ],
      "text/plain": [
       "                                                   code complexity\n",
       "17    import math\\n\\ndef getdt():\\n    return map(in...       O(1)\n",
       "18    import math\\n\\ndef getdt():\\n    return map(in...       O(1)\n",
       "29                      n = int(input())\\nprint(3*n//2)       O(1)\n",
       "30              n = int(input())\\nprint(int(3 * n / 2))       O(1)\n",
       "77    n=int(input())\\nif(n<3):\\n    print(n)\\nelse:\\...       O(1)\n",
       "...                                                 ...        ...\n",
       "4842  import math\\ndef f(n,s):\\n    d=[-n,-n];d[s]=0...         np\n",
       "4843  def f(n,s):\\n    d=[-n,-n];\\n    d[s]=0;\\n    ...         np\n",
       "4856  import sys\\ninput = sys.stdin.readline\\n\\ndef ...         np\n",
       "4895  import sys\\ninput = sys.stdin.readline\\n\\nn, k...         np\n",
       "4898  import sys;input = sys.stdin.readline;n, k = m...         np\n",
       "\n",
       "[240 rows x 2 columns]"
      ]
     },
     "execution_count": 74,
     "metadata": {},
     "output_type": "execute_result"
    }
   ],
   "source": [
    "merged[merged['code'].duplicated()]"
   ]
  },
  {
   "cell_type": "markdown",
   "id": "9902339a-97e1-4fc1-8c87-62f6d0b8d707",
   "metadata": {},
   "source": [
    "## Dropping duplicates"
   ]
  },
  {
   "cell_type": "code",
   "execution_count": 75,
   "id": "ca8235a7-7fb5-413d-a6b4-4171cec15d13",
   "metadata": {},
   "outputs": [
    {
     "data": {
      "text/plain": [
       "np.int64(0)"
      ]
     },
     "execution_count": 75,
     "metadata": {},
     "output_type": "execute_result"
    }
   ],
   "source": [
    "merged = merged.drop_duplicates()\n",
    "merged.duplicated().sum()"
   ]
  },
  {
   "cell_type": "markdown",
   "id": "18ef34d7-1ebd-41bf-8861-9e2861a2be79",
   "metadata": {},
   "source": [
    "# Final class distribution"
   ]
  },
  {
   "cell_type": "code",
   "execution_count": 76,
   "id": "9b7723a4-87f2-4eb7-9d63-0df5ae9f678c",
   "metadata": {},
   "outputs": [
    {
     "data": {
      "text/plain": [
       "complexity\n",
       "O(n)        972\n",
       "O(nlogn)    807\n",
       "O(1)        778\n",
       "O(n ^ 2)    689\n",
       "O(logn)     668\n",
       "O(n ^ 3)    570\n",
       "np          497\n",
       "O(2 ^ n)     11\n",
       "O(n!)         6\n",
       "Name: count, dtype: int64"
      ]
     },
     "execution_count": 76,
     "metadata": {},
     "output_type": "execute_result"
    }
   ],
   "source": [
    "merged['complexity'].value_counts()"
   ]
  },
  {
   "cell_type": "markdown",
   "id": "8c49d1b4-1d02-40af-b1d0-9e62900bfb2a",
   "metadata": {},
   "source": [
    "# Saving as .csv"
   ]
  },
  {
   "cell_type": "code",
   "execution_count": 32,
   "id": "ec8e6eaa-6062-410d-8120-12159c8eb8a5",
   "metadata": {},
   "outputs": [],
   "source": [
    "ai_relabeled_clean_leetcode.to_csv(\"../data/label_updated_clean_leetcode_data.csv\", index=False)"
   ]
  },
  {
   "cell_type": "code",
   "execution_count": 78,
   "id": "b0c11911-5acd-4996-adb0-efca0affbfaf",
   "metadata": {},
   "outputs": [],
   "source": [
    "merged.to_csv('../codecomplex_neetcode_merged.csv', index=False)"
   ]
  },
  {
   "cell_type": "code",
   "execution_count": 52,
   "id": "69daaba2-2b0c-43ae-ac4c-a001bbeea44d",
   "metadata": {},
   "outputs": [],
   "source": [
    "messy_data_clear_labels.to_csv('../data/leetcode-parsed/clear_labels_messy_leetcode_data.csv', index=False)"
   ]
  }
 ],
 "metadata": {
  "kernelspec": {
   "display_name": "Python 3 (ipykernel)",
   "language": "python",
   "name": "python3"
  },
  "language_info": {
   "codemirror_mode": {
    "name": "ipython",
    "version": 3
   },
   "file_extension": ".py",
   "mimetype": "text/x-python",
   "name": "python",
   "nbconvert_exporter": "python",
   "pygments_lexer": "ipython3",
   "version": "3.13.0"
  }
 },
 "nbformat": 4,
 "nbformat_minor": 5
}
