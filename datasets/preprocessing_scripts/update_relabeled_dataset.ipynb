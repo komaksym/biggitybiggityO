{
 "cells": [
  {
   "cell_type": "markdown",
   "id": "5d52cd37-e737-49e1-bdb5-296bf3e6d724",
   "metadata": {},
   "source": [
    "## Imports"
   ]
  },
  {
   "cell_type": "code",
   "execution_count": 1,
   "id": "80a70507-ebe5-4bfd-b74e-2db8904f7572",
   "metadata": {},
   "outputs": [],
   "source": [
    "import pandas as pd"
   ]
  },
  {
   "cell_type": "markdown",
   "id": "8663a3f8-b99b-4519-b99c-2934326343a6",
   "metadata": {},
   "source": [
    "## Load data"
   ]
  },
  {
   "cell_type": "code",
   "execution_count": 2,
   "id": "aa8acf4b-68e4-4cfa-9822-054103ead89f",
   "metadata": {},
   "outputs": [],
   "source": [
    "original = pd.read_csv(\"../data/clean_leetcode_data.csv\", sep=';')\n",
    "relabeled = pd.read_csv(\"../data/ai_audited/relabeled_clean_leetcode_data.csv\", sep=';')"
   ]
  },
  {
   "cell_type": "markdown",
   "id": "1cafb7ac-fc1c-4b42-99f1-b4119ac11061",
   "metadata": {},
   "source": [
    "## Sample to see a diff on"
   ]
  },
  {
   "cell_type": "code",
   "execution_count": 3,
   "id": "98968787-a5a1-44be-b482-6c53dda4a44f",
   "metadata": {},
   "outputs": [],
   "source": [
    "diff = relabeled.iloc[0]['code']"
   ]
  },
  {
   "cell_type": "markdown",
   "id": "8f2816ad-ce43-428d-b38c-99b704c7344a",
   "metadata": {},
   "source": [
    "## 'Before' label"
   ]
  },
  {
   "cell_type": "code",
   "execution_count": 4,
   "id": "b606d1bb-af52-4230-a3ee-f26dc869232a",
   "metadata": {},
   "outputs": [],
   "source": [
    "before = original.loc[original['code'] == diff]"
   ]
  },
  {
   "cell_type": "markdown",
   "id": "29ce81bb-0b02-405e-be31-c41dbccc2cb7",
   "metadata": {},
   "source": [
    "## Dropping duplicates"
   ]
  },
  {
   "cell_type": "code",
   "execution_count": 5,
   "id": "0c4853d9-713e-4768-8469-bf5316a27363",
   "metadata": {},
   "outputs": [],
   "source": [
    "relabeled.drop_duplicates(subset='code', inplace=True)\n",
    "original.drop_duplicates(subset='code', inplace=True)"
   ]
  },
  {
   "cell_type": "markdown",
   "id": "61fbca22-9f68-41c2-905d-ccc90e54047a",
   "metadata": {},
   "source": [
    "## Set index as the update method aligns on indices"
   ]
  },
  {
   "cell_type": "code",
   "execution_count": 6,
   "id": "c2087ec7-30cc-47e6-8f67-a1bb689f52bb",
   "metadata": {},
   "outputs": [],
   "source": [
    "original.set_index('code', inplace=True)\n",
    "relabeled.set_index('code', inplace=True)"
   ]
  },
  {
   "cell_type": "markdown",
   "id": "76a17c7c-34fd-4c7d-92c6-5adb63e26716",
   "metadata": {},
   "source": [
    "## Update /w new labels"
   ]
  },
  {
   "cell_type": "code",
   "execution_count": 7,
   "id": "9776d330-c69a-4a11-b833-96fe264817bf",
   "metadata": {},
   "outputs": [],
   "source": [
    "original.update(relabeled)"
   ]
  },
  {
   "cell_type": "markdown",
   "id": "4d242655-cf99-4baa-964e-ca5dfcef9bfe",
   "metadata": {},
   "source": [
    "## 'After' label"
   ]
  },
  {
   "cell_type": "code",
   "execution_count": 8,
   "id": "628f49de-5df3-4b00-9c60-45dc55186cb1",
   "metadata": {},
   "outputs": [],
   "source": [
    "after = original.loc[original.index == diff]"
   ]
  },
  {
   "cell_type": "markdown",
   "id": "7834e948-936b-44c2-b5c9-58a2805f3692",
   "metadata": {},
   "source": [
    "## Post-update comparison"
   ]
  },
  {
   "cell_type": "code",
   "execution_count": 9,
   "id": "442d9c3c-e70b-40ff-8b14-214fbc85a112",
   "metadata": {},
   "outputs": [
    {
     "data": {
      "text/html": [
       "<div>\n",
       "<style scoped>\n",
       "    .dataframe tbody tr th:only-of-type {\n",
       "        vertical-align: middle;\n",
       "    }\n",
       "\n",
       "    .dataframe tbody tr th {\n",
       "        vertical-align: top;\n",
       "    }\n",
       "\n",
       "    .dataframe thead th {\n",
       "        text-align: right;\n",
       "    }\n",
       "</style>\n",
       "<table border=\"1\" class=\"dataframe\">\n",
       "  <thead>\n",
       "    <tr style=\"text-align: right;\">\n",
       "      <th></th>\n",
       "      <th>code</th>\n",
       "      <th>complexity</th>\n",
       "    </tr>\n",
       "  </thead>\n",
       "  <tbody>\n",
       "    <tr>\n",
       "      <th>22</th>\n",
       "      <td>class Solution(object):\\n    def toHexspeak(se...</td>\n",
       "      <td>O(n)</td>\n",
       "    </tr>\n",
       "  </tbody>\n",
       "</table>\n",
       "</div>"
      ],
      "text/plain": [
       "                                                 code complexity\n",
       "22  class Solution(object):\\n    def toHexspeak(se...       O(n)"
      ]
     },
     "execution_count": 9,
     "metadata": {},
     "output_type": "execute_result"
    }
   ],
   "source": [
    "before"
   ]
  },
  {
   "cell_type": "code",
   "execution_count": 10,
   "id": "853ebb26-42f0-4238-9811-535ed56dd375",
   "metadata": {},
   "outputs": [
    {
     "data": {
      "text/html": [
       "<div>\n",
       "<style scoped>\n",
       "    .dataframe tbody tr th:only-of-type {\n",
       "        vertical-align: middle;\n",
       "    }\n",
       "\n",
       "    .dataframe tbody tr th {\n",
       "        vertical-align: top;\n",
       "    }\n",
       "\n",
       "    .dataframe thead th {\n",
       "        text-align: right;\n",
       "    }\n",
       "</style>\n",
       "<table border=\"1\" class=\"dataframe\">\n",
       "  <thead>\n",
       "    <tr style=\"text-align: right;\">\n",
       "      <th></th>\n",
       "      <th>complexity</th>\n",
       "    </tr>\n",
       "    <tr>\n",
       "      <th>code</th>\n",
       "      <th></th>\n",
       "    </tr>\n",
       "  </thead>\n",
       "  <tbody>\n",
       "    <tr>\n",
       "      <th>class Solution(object):\\n    def toHexspeak(self, num):\\n        lookup = {0:'O', 1:'I'}\\n        for i in range(6):\\n            lookup[10+i] = chr(ord('A')+i)\\n        result = []\\n        n = int(num)\\n        while n:\\n            n, r = divmod(n, 16)\\n            if r not in lookup:\\n                return \"ERROR\"\\n            result.append(lookup[r])\\n        return \"\".join(reversed(result))</th>\n",
       "      <td>O(logn)</td>\n",
       "    </tr>\n",
       "  </tbody>\n",
       "</table>\n",
       "</div>"
      ],
      "text/plain": [
       "                                                   complexity\n",
       "code                                                         \n",
       "class Solution(object):\\n    def toHexspeak(sel...    O(logn)"
      ]
     },
     "execution_count": 10,
     "metadata": {},
     "output_type": "execute_result"
    }
   ],
   "source": [
    "after"
   ]
  }
 ],
 "metadata": {
  "kernelspec": {
   "display_name": "Python 3 (ipykernel)",
   "language": "python",
   "name": "python3"
  },
  "language_info": {
   "codemirror_mode": {
    "name": "ipython",
    "version": 3
   },
   "file_extension": ".py",
   "mimetype": "text/x-python",
   "name": "python",
   "nbconvert_exporter": "python",
   "pygments_lexer": "ipython3",
   "version": "3.13.0"
  }
 },
 "nbformat": 4,
 "nbformat_minor": 5
}
