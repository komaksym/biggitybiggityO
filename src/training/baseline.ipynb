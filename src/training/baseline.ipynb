{
 "cells": [
  {
   "cell_type": "code",
   "execution_count": 81,
   "id": "b3052fcc-5284-4b8e-8d6f-4ee75c4009bd",
   "metadata": {},
   "outputs": [],
   "source": [
    "import numpy as np\n",
    "import pandas as pd\n",
    "import os\n",
    "from sklearn.linear_model import LogisticRegression\n",
    "from sklearn.model_selection import cross_validate\n",
    "from sklearn.pipeline import Pipeline\n",
    "from sklearn.metrics import accuracy_score, f1_score, make_scorer\n",
    "from sklearn.feature_extraction.text import CountVectorizer"
   ]
  },
  {
   "cell_type": "markdown",
   "id": "2fbfeb9e-e2ac-4f5e-83fc-9ae3d4ad2aac",
   "metadata": {
    "id": "oZwkz2wNeZM0"
   },
   "source": [
    "# Dataset uploading"
   ]
  },
  {
   "cell_type": "code",
   "execution_count": 82,
   "id": "f1ab002e-175e-440b-b795-ad70cad8621f",
   "metadata": {},
   "outputs": [],
   "source": [
    "\"\"\"\n",
    "Note: Did not test on kaggle yet.\n",
    "\"\"\"\n",
    "import os \n",
    "\n",
    "DATASET_PATHS = {\n",
    "    \"local\": {\n",
    "        \"train\": \"../../datasets/train_set.csv\",\n",
    "        \"test\": \"../../datasets/test_set.csv\"\n",
    "    },\n",
    "    \"kaggle\": {\n",
    "        \"train\": \"/kaggle/input/python-codes-time-complexity/train_set.csv\",\n",
    "        \"test\": \"/kaggle/input/python-codes-time-complexity/test_set.csv\"\n",
    "    }\n",
    "}\n",
    "\n",
    "def upload_datasets(dataset_paths=DATASET_PATHS):\n",
    "    for path in dataset_paths:\n",
    "        if os.path.exists(dataset_paths[path]['train']) and os.path.exists(dataset_paths[path]['test']):\n",
    "            return dataset_paths[path]['train'], dataset_paths[path]['test']\n",
    "\n",
    "    return FileNotFoundError(f\"Datasets do not exist in the current paths: {dataset_paths}\")\n",
    "            \n",
    "\n",
    "train_set_path, test_set_path = upload_datasets()"
   ]
  },
  {
   "cell_type": "markdown",
   "id": "e72417d4-2072-4f56-a952-7c5360a9bd06",
   "metadata": {},
   "source": [
    "# Dataset Uploading"
   ]
  },
  {
   "cell_type": "code",
   "execution_count": 83,
   "id": "addd2d4b-9e4b-4f8a-a381-73279a206226",
   "metadata": {
    "id": "T5Hb02FFeZM0"
   },
   "outputs": [],
   "source": [
    "train_set = pd.read_csv(train_set_path)\n",
    "test_set = pd.read_csv(test_set_path)\n",
    "\n",
    "X_train = train_set['code']\n",
    "y_train = train_set['complexity']\n",
    "\n",
    "X_test = test_set['code']\n",
    "y_test = test_set['complexity']"
   ]
  },
  {
   "cell_type": "markdown",
   "id": "df3d0ff6-d08c-470c-8d29-ab80449b03b8",
   "metadata": {},
   "source": [
    "# Metrics"
   ]
  },
  {
   "cell_type": "markdown",
   "id": "24ac2602-bd62-414c-9a3d-ad913742a4be",
   "metadata": {},
   "source": [
    "## Hierarchy Complexity Score"
   ]
  },
  {
   "cell_type": "markdown",
   "id": "60a40193-7588-4f2f-99ef-ad343d528017",
   "metadata": {},
   "source": [
    "### Ordering labels by Hierarchy"
   ]
  },
  {
   "cell_type": "code",
   "execution_count": 84,
   "id": "ea9efab7-6154-4b27-8c5b-eda9a4682654",
   "metadata": {},
   "outputs": [],
   "source": [
    "LABELS_HIERARCHY = {\n",
    "    'constant': 1,\n",
    "    'logn': 2,\n",
    "    'linear': 3,\n",
    "    'nlogn': 4,\n",
    "    'quadratic': 5,\n",
    "    'cubic': 6,\n",
    "    'np': 7\n",
    "}\n",
    "\n",
    "N_CLASSES = len(LABELS_HIERARCHY)"
   ]
  },
  {
   "cell_type": "markdown",
   "id": "9b6b74b6-095f-40bd-b044-f6682bec8214",
   "metadata": {},
   "source": [
    "### Writing the custom metric hc_score"
   ]
  },
  {
   "cell_type": "code",
   "execution_count": 85,
   "id": "cff30b52-870d-48ac-a1fe-46a2524feec2",
   "metadata": {},
   "outputs": [],
   "source": [
    "def hc_score(y_true, y_pred, n_classes=N_CLASSES):\n",
    "    assert len(y_true) == len(y_pred), f\"The amount of y_true labels: {len(y_true)} does not equal to the amount of y_pred: {len(y_pred)}.\"\n",
    "\n",
    "    y_pred = np.array([LABELS_HIERARCHY[pred] for pred in y_pred])\n",
    "    y_true = np.array([LABELS_HIERARCHY[true] for true in y_true])\n",
    "    n_samples = len(y_true)\n",
    "    \n",
    "    return (np.sum(np.abs(y_pred - y_true)) / n_classes) / n_samples\n",
    "\n",
    "hierarchy_score = make_scorer(hc_score)"
   ]
  },
  {
   "cell_type": "markdown",
   "id": "bea73bc2-8a05-4ef3-ac20-cc81c1345d4e",
   "metadata": {},
   "source": [
    "### All metrics"
   ]
  },
  {
   "cell_type": "code",
   "execution_count": 86,
   "id": "dc957b5a-d109-4b1d-adaa-e9badfa67d47",
   "metadata": {},
   "outputs": [],
   "source": [
    "metrics = {'accuracy': 'accuracy', 'f1_macro': 'f1_macro', 'hc_score': hierarchy_score}"
   ]
  },
  {
   "cell_type": "markdown",
   "id": "6321f24a-0fdb-45f0-8aaf-164ba11c71cb",
   "metadata": {},
   "source": [
    "# Model & Cross-Validation"
   ]
  },
  {
   "cell_type": "code",
   "execution_count": 87,
   "id": "032a1ed7-5543-4554-bbe0-f146f51a36b1",
   "metadata": {},
   "outputs": [],
   "source": [
    "model = LogisticRegression(max_iter=1000, random_state=2025)\n",
    "pipeline = Pipeline([('tokenizer', CountVectorizer()), ('model', model)])\n",
    "\n",
    "scores = cross_validate(pipeline, X_train, y_train, scoring=metrics, cv=5)"
   ]
  },
  {
   "cell_type": "code",
   "execution_count": 88,
   "id": "8b259c90-cb27-41c1-82b1-077fbe435912",
   "metadata": {},
   "outputs": [
    {
     "name": "stdout",
     "output_type": "stream",
     "text": [
      "cv_acc: 0.6295055086835667\n",
      "cv_f1_macro: 0.6326589275313579\n",
      "cv_hc_score: 0.1043944880967546\n"
     ]
    }
   ],
   "source": [
    "cv_accuracy = scores['test_accuracy'].mean()\n",
    "cv_f1_macro = scores['test_f1_macro'].mean()\n",
    "cv_hc_score = scores['test_hc_score'].mean()\n",
    "\n",
    "print(f\"cv_accuracy: {cv_accuracy}\")\n",
    "print(f\"cv_f1_macro: {cv_f1_macro}\")\n",
    "print(f\"cv_hc_score: {cv_hc_score}\")"
   ]
  },
  {
   "cell_type": "markdown",
   "id": "062f02fa-39cb-453e-ac03-4b77228f9cc0",
   "metadata": {},
   "source": [
    "# Evaluation"
   ]
  },
  {
   "cell_type": "code",
   "execution_count": 91,
   "id": "4a7ac6a1-e405-4d42-9efb-c5c9de8d7bd8",
   "metadata": {},
   "outputs": [
    {
     "name": "stdout",
     "output_type": "stream",
     "text": [
      "test_accuracy: 0.6676891615541922\n",
      "test_f1_macro: 0.6730966254022447\n",
      "test_hc_score: 0.08939526730937775\n"
     ]
    }
   ],
   "source": [
    "pipeline.fit(X_train, y_train)\n",
    "y_preds = pipeline.predict(X_test)\n",
    "\n",
    "test_accuracy = accuracy_score(y_test, y_preds)\n",
    "test_f1_macro = f1_score(y_test, y_preds, average='macro')\n",
    "test_hc_score = hc_score(y_test, y_preds)\n",
    "\n",
    "print(f\"test_accuracy: {test_accuracy}\")\n",
    "print(f\"test_f1_macro: {test_f1_macro}\")\n",
    "print(f\"test_hc_score: {test_hc_score}\")"
   ]
  },
  {
   "cell_type": "markdown",
   "id": "5e34f9d5-7f98-42e8-85e4-17dbf1594fa8",
   "metadata": {},
   "source": [
    "# Save performance"
   ]
  },
  {
   "cell_type": "code",
   "execution_count": 102,
   "id": "7523a4d0-4fbc-4e56-887a-c4895eb6301c",
   "metadata": {},
   "outputs": [
    {
     "data": {
      "text/html": [
       "<div>\n",
       "<style scoped>\n",
       "    .dataframe tbody tr th:only-of-type {\n",
       "        vertical-align: middle;\n",
       "    }\n",
       "\n",
       "    .dataframe tbody tr th {\n",
       "        vertical-align: top;\n",
       "    }\n",
       "\n",
       "    .dataframe thead th {\n",
       "        text-align: right;\n",
       "    }\n",
       "</style>\n",
       "<table border=\"1\" class=\"dataframe\">\n",
       "  <thead>\n",
       "    <tr style=\"text-align: right;\">\n",
       "      <th></th>\n",
       "      <th>model</th>\n",
       "      <th>accuracy</th>\n",
       "      <th>f1_macro</th>\n",
       "      <th>hc_score</th>\n",
       "    </tr>\n",
       "  </thead>\n",
       "  <tbody>\n",
       "    <tr>\n",
       "      <th>0</th>\n",
       "      <td>LogisticRegression</td>\n",
       "      <td>0.667689</td>\n",
       "      <td>0.673097</td>\n",
       "      <td>0.089395</td>\n",
       "    </tr>\n",
       "  </tbody>\n",
       "</table>\n",
       "</div>"
      ],
      "text/plain": [
       "                model  accuracy  f1_macro  hc_score\n",
       "0  LogisticRegression  0.667689  0.673097  0.089395"
      ]
     },
     "execution_count": 102,
     "metadata": {},
     "output_type": "execute_result"
    }
   ],
   "source": [
    "results = pd.DataFrame(data={'model': 'LogisticRegression', 'accuracy': test_accuracy,\n",
    "                             'f1_macro': test_f1_macro, 'hc_score': test_hc_score}, index=[0])\n",
    "results"
   ]
  }
 ],
 "metadata": {
  "kernelspec": {
   "display_name": "Python 3 (ipykernel)",
   "language": "python",
   "name": "python3"
  },
  "language_info": {
   "codemirror_mode": {
    "name": "ipython",
    "version": 3
   },
   "file_extension": ".py",
   "mimetype": "text/x-python",
   "name": "python",
   "nbconvert_exporter": "python",
   "pygments_lexer": "ipython3",
   "version": "3.12.3"
  }
 },
 "nbformat": 4,
 "nbformat_minor": 5
}
